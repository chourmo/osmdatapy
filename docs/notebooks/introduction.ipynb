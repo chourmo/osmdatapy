{
 "cells": [
  {
   "cell_type": "code",
   "execution_count": 1,
   "metadata": {
    "execution": {
     "iopub.execute_input": "2022-06-03T05:54:15.835548Z",
     "iopub.status.busy": "2022-06-03T05:54:15.834690Z",
     "iopub.status.idle": "2022-06-03T05:54:16.725227Z",
     "shell.execute_reply": "2022-06-03T05:54:16.724816Z",
     "shell.execute_reply.started": "2022-06-03T05:54:15.835400Z"
    },
    "tags": []
   },
   "outputs": [],
   "source": [
    "import osmdatapy as osm\n",
    "\n",
    "%load_ext autoreload\n",
    "%autoreload 2"
   ]
  },
  {
   "cell_type": "code",
   "execution_count": 2,
   "metadata": {
    "execution": {
     "iopub.execute_input": "2022-06-03T05:54:19.076677Z",
     "iopub.status.busy": "2022-06-03T05:54:19.075956Z",
     "iopub.status.idle": "2022-06-03T05:54:19.903445Z",
     "shell.execute_reply": "2022-06-03T05:54:19.901852Z",
     "shell.execute_reply.started": "2022-06-03T05:54:19.076650Z"
    },
    "tags": []
   },
   "outputs": [],
   "source": [
    "# init the osm datasource\n",
    "data = osm.OSM_datasource()"
   ]
  },
  {
   "cell_type": "code",
   "execution_count": 3,
   "metadata": {
    "execution": {
     "iopub.execute_input": "2022-06-03T05:54:20.839312Z",
     "iopub.status.busy": "2022-06-03T05:54:20.838424Z",
     "iopub.status.idle": "2022-06-03T05:54:20.867710Z",
     "shell.execute_reply": "2022-06-03T05:54:20.867173Z",
     "shell.execute_reply.started": "2022-06-03T05:54:20.839266Z"
    },
    "tags": []
   },
   "outputs": [],
   "source": [
    "# set download path\n",
    "path = \"./\"\n",
    "\n",
    "# city name\n",
    "name = [\"Marseille\"]"
   ]
  },
  {
   "cell_type": "code",
   "execution_count": 6,
   "metadata": {
    "execution": {
     "iopub.execute_input": "2022-06-03T05:54:30.995943Z",
     "iopub.status.busy": "2022-06-03T05:54:30.995251Z",
     "iopub.status.idle": "2022-06-03T05:54:33.065661Z",
     "shell.execute_reply": "2022-06-03T05:54:33.065065Z",
     "shell.execute_reply.started": "2022-06-03T05:54:30.995896Z"
    },
    "tags": []
   },
   "outputs": [
    {
     "data": {
      "text/plain": [
       "'./Marseille.osm.pbf'"
      ]
     },
     "execution_count": 6,
     "metadata": {},
     "output_type": "execute_result"
    }
   ],
   "source": [
    "# get data\n",
    "osm_path = data.download(path=path, place=name)[0]\n",
    "osm_path"
   ]
  },
  {
   "cell_type": "code",
   "execution_count": 7,
   "metadata": {
    "execution": {
     "iopub.execute_input": "2022-06-03T05:54:33.067277Z",
     "iopub.status.busy": "2022-06-03T05:54:33.067033Z",
     "iopub.status.idle": "2022-06-03T05:54:35.235394Z",
     "shell.execute_reply": "2022-06-03T05:54:35.235059Z",
     "shell.execute_reply.started": "2022-06-03T05:54:33.067252Z"
    },
    "tags": []
   },
   "outputs": [
    {
     "name": "stdout",
     "output_type": "stream",
     "text": [
      "3 blocks : 1 dense nodes, 0 nodes, 1 ways, 1 relations\n",
      "---------------------------------------\n",
      "Cache memory usage : 112.7 MB\n",
      "6968138 points, 106.3 MB\n",
      "offsets : 4.8 MB\n",
      "strings : 1.5 MB\n"
     ]
    }
   ],
   "source": [
    "df = osm.OSM(osm_path)\n",
    "df.info()"
   ]
  },
  {
   "cell_type": "code",
   "execution_count": null,
   "metadata": {},
   "outputs": [],
   "source": []
  }
 ],
 "metadata": {
  "interpreter": {
   "hash": "791fb41b6c4ae87c365da234ae3816e32b9b9517ca8541e37967bd34d29dcc5d"
  },
  "kernelspec": {
   "display_name": "osmdatapy_kernel",
   "language": "python",
   "name": "osmdatapy_kernel"
  },
  "language_info": {
   "codemirror_mode": {
    "name": "ipython",
    "version": 3
   },
   "file_extension": ".py",
   "mimetype": "text/x-python",
   "name": "python",
   "nbconvert_exporter": "python",
   "pygments_lexer": "ipython3",
   "version": "3.10.4"
  }
 },
 "nbformat": 4,
 "nbformat_minor": 4
}
