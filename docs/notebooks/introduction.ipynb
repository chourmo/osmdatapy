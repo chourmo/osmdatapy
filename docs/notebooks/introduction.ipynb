{
 "cells": [
  {
   "cell_type": "code",
   "execution_count": 1,
   "metadata": {
    "execution": {
     "iopub.execute_input": "2022-06-04T13:25:05.591909Z",
     "iopub.status.busy": "2022-06-04T13:25:05.591114Z",
     "iopub.status.idle": "2022-06-04T13:25:12.530823Z",
     "shell.execute_reply": "2022-06-04T13:25:12.530296Z",
     "shell.execute_reply.started": "2022-06-04T13:25:05.591769Z"
    },
    "tags": []
   },
   "outputs": [],
   "source": [
    "import osmdatapy as osm\n",
    "\n",
    "%load_ext autoreload\n",
    "%autoreload 2"
   ]
  },
  {
   "cell_type": "code",
   "execution_count": 2,
   "metadata": {
    "execution": {
     "iopub.execute_input": "2022-06-04T13:25:16.029931Z",
     "iopub.status.busy": "2022-06-04T13:25:16.029253Z",
     "iopub.status.idle": "2022-06-04T13:25:16.759324Z",
     "shell.execute_reply": "2022-06-04T13:25:16.757941Z",
     "shell.execute_reply.started": "2022-06-04T13:25:16.029905Z"
    },
    "tags": []
   },
   "outputs": [],
   "source": [
    "# init the osm datasource\n",
    "data = osm.OSM_datasource()"
   ]
  },
  {
   "cell_type": "code",
   "execution_count": 3,
   "metadata": {
    "execution": {
     "iopub.execute_input": "2022-06-04T13:25:17.627678Z",
     "iopub.status.busy": "2022-06-04T13:25:17.626927Z",
     "iopub.status.idle": "2022-06-04T13:25:17.659131Z",
     "shell.execute_reply": "2022-06-04T13:25:17.658701Z",
     "shell.execute_reply.started": "2022-06-04T13:25:17.627629Z"
    },
    "tags": []
   },
   "outputs": [],
   "source": [
    "# set download path\n",
    "path = \"./\"\n",
    "\n",
    "# city name\n",
    "name = [\"Marseille\"]"
   ]
  },
  {
   "cell_type": "code",
   "execution_count": 4,
   "metadata": {
    "execution": {
     "iopub.execute_input": "2022-06-04T13:25:18.805708Z",
     "iopub.status.busy": "2022-06-04T13:25:18.804805Z",
     "iopub.status.idle": "2022-06-04T13:25:20.070181Z",
     "shell.execute_reply": "2022-06-04T13:25:20.069656Z",
     "shell.execute_reply.started": "2022-06-04T13:25:18.805674Z"
    },
    "tags": []
   },
   "outputs": [
    {
     "data": {
      "text/plain": [
       "'./Marseille.osm.pbf'"
      ]
     },
     "execution_count": 4,
     "metadata": {},
     "output_type": "execute_result"
    }
   ],
   "source": [
    "# get data\n",
    "osm_path = data.download(path=path, place=name)[0]\n",
    "osm_path"
   ]
  },
  {
   "cell_type": "code",
   "execution_count": 5,
   "metadata": {
    "execution": {
     "iopub.execute_input": "2022-06-04T13:25:20.692107Z",
     "iopub.status.busy": "2022-06-04T13:25:20.691296Z",
     "iopub.status.idle": "2022-06-04T13:25:22.851082Z",
     "shell.execute_reply": "2022-06-04T13:25:22.850701Z",
     "shell.execute_reply.started": "2022-06-04T13:25:20.692060Z"
    },
    "tags": []
   },
   "outputs": [
    {
     "name": "stdout",
     "output_type": "stream",
     "text": [
      "3 blocks : 1 dense nodes, 0 nodes, 1 ways, 1 relations\n",
      "---------------------------------------\n",
      "Cache memory usage : 112.7 MB\n",
      "6968138 points, 106.3 MB\n",
      "offsets : 4.8 MB\n",
      "strings : 1.5 MB\n"
     ]
    }
   ],
   "source": [
    "df = osm.OSM(osm_path)\n",
    "df.info()"
   ]
  },
  {
   "cell_type": "code",
   "execution_count": null,
   "metadata": {},
   "outputs": [],
   "source": []
  }
 ],
 "metadata": {
  "interpreter": {
   "hash": "791fb41b6c4ae87c365da234ae3816e32b9b9517ca8541e37967bd34d29dcc5d"
  },
  "kernelspec": {
   "display_name": "osmdatapy",
   "language": "python",
   "name": "osmdatapy"
  },
  "language_info": {
   "codemirror_mode": {
    "name": "ipython",
    "version": 3
   },
   "file_extension": ".py",
   "mimetype": "text/x-python",
   "name": "python",
   "nbconvert_exporter": "python",
   "pygments_lexer": "ipython3",
   "version": "3.10.4"
  }
 },
 "nbformat": 4,
 "nbformat_minor": 4
}
