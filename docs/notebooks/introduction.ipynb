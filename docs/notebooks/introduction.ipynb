{
 "cells": [
  {
   "cell_type": "code",
   "execution_count": 2,
   "metadata": {
    "execution": {
     "iopub.execute_input": "2022-06-02T15:40:27.462556Z",
     "iopub.status.busy": "2022-06-02T15:40:27.461495Z",
     "iopub.status.idle": "2022-06-02T15:40:27.641640Z",
     "shell.execute_reply": "2022-06-02T15:40:27.641151Z",
     "shell.execute_reply.started": "2022-06-02T15:40:27.462494Z"
    },
    "tags": []
   },
   "outputs": [],
   "source": [
    "import osmdatapy as osm\n",
    "\n",
    "%load_ext autoreload\n",
    "%autoreload 2"
   ]
  },
  {
   "cell_type": "code",
   "execution_count": 3,
   "metadata": {
    "execution": {
     "iopub.execute_input": "2022-06-02T15:40:30.541131Z",
     "iopub.status.busy": "2022-06-02T15:40:30.540491Z",
     "iopub.status.idle": "2022-06-02T15:40:31.252981Z",
     "shell.execute_reply": "2022-06-02T15:40:31.251748Z",
     "shell.execute_reply.started": "2022-06-02T15:40:30.541104Z"
    },
    "tags": []
   },
   "outputs": [],
   "source": [
    "# init the osm datasource\n",
    "data = osm.OSM_datasource()"
   ]
  },
  {
   "cell_type": "code",
   "execution_count": 4,
   "metadata": {
    "execution": {
     "iopub.execute_input": "2022-06-02T15:40:34.506134Z",
     "iopub.status.busy": "2022-06-02T15:40:34.505398Z",
     "iopub.status.idle": "2022-06-02T15:40:34.536276Z",
     "shell.execute_reply": "2022-06-02T15:40:34.535726Z",
     "shell.execute_reply.started": "2022-06-02T15:40:34.506098Z"
    },
    "tags": []
   },
   "outputs": [],
   "source": [
    "# set download path\n",
    "path = \"./\"\n",
    "\n",
    "# city name\n",
    "name = [\"Marseille\"]"
   ]
  },
  {
   "cell_type": "code",
   "execution_count": 5,
   "metadata": {
    "execution": {
     "iopub.execute_input": "2022-06-02T15:40:34.828170Z",
     "iopub.status.busy": "2022-06-02T15:40:34.827460Z",
     "iopub.status.idle": "2022-06-02T15:40:36.021861Z",
     "shell.execute_reply": "2022-06-02T15:40:36.021294Z",
     "shell.execute_reply.started": "2022-06-02T15:40:34.828135Z"
    },
    "tags": []
   },
   "outputs": [
    {
     "data": {
      "text/plain": [
       "'./Marseille.osm.pbf'"
      ]
     },
     "execution_count": 5,
     "metadata": {},
     "output_type": "execute_result"
    }
   ],
   "source": [
    "# get data\n",
    "osm_path = data.download(path=path, place=name)[0]\n",
    "osm_path"
   ]
  },
  {
   "cell_type": "code",
   "execution_count": 6,
   "metadata": {
    "execution": {
     "iopub.execute_input": "2022-06-02T15:40:42.209822Z",
     "iopub.status.busy": "2022-06-02T15:40:42.209084Z",
     "iopub.status.idle": "2022-06-02T15:40:44.348955Z",
     "shell.execute_reply": "2022-06-02T15:40:44.348602Z",
     "shell.execute_reply.started": "2022-06-02T15:40:42.209785Z"
    },
    "tags": []
   },
   "outputs": [
    {
     "name": "stdout",
     "output_type": "stream",
     "text": [
      "3 blocks : 1 dense nodes, 0 nodes, 1 ways, 1 relations\n",
      "---------------------------------------\n",
      "Cache memory usage : 112.7 MB\n",
      "6968138 points, 106.3 MB\n",
      "offsets : 4.8 MB\n",
      "strings : 1.5 MB\n"
     ]
    }
   ],
   "source": [
    "df = osm.OSM(osm_path)\n",
    "df.info()"
   ]
  },
  {
   "cell_type": "code",
   "execution_count": null,
   "metadata": {},
   "outputs": [],
   "source": []
  }
 ],
 "metadata": {
  "interpreter": {
   "hash": "791fb41b6c4ae87c365da234ae3816e32b9b9517ca8541e37967bd34d29dcc5d"
  },
  "kernelspec": {
   "display_name": "osmdatapy_kernel",
   "language": "python",
   "name": "osmdatapy_kernel"
  },
  "language_info": {
   "codemirror_mode": {
    "name": "ipython",
    "version": 3
   },
   "file_extension": ".py",
   "mimetype": "text/x-python",
   "name": "python",
   "nbconvert_exporter": "python",
   "pygments_lexer": "ipython3",
   "version": "3.10.4"
  }
 },
 "nbformat": 4,
 "nbformat_minor": 4
}
