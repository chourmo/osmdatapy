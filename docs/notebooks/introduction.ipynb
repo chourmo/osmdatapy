{
 "cells": [
  {
   "cell_type": "code",
   "execution_count": 1,
   "metadata": {
    "execution": {
     "iopub.execute_input": "2022-06-02T18:34:45.641243Z",
     "iopub.status.busy": "2022-06-02T18:34:45.640625Z",
     "iopub.status.idle": "2022-06-02T18:34:46.088550Z",
     "shell.execute_reply": "2022-06-02T18:34:46.088056Z",
     "shell.execute_reply.started": "2022-06-02T18:34:45.641130Z"
    },
    "tags": []
   },
   "outputs": [],
   "source": [
    "import osmdatapy as osm\n",
    "\n",
    "%load_ext autoreload\n",
    "%autoreload 2"
   ]
  },
  {
   "cell_type": "code",
   "execution_count": null,
   "metadata": {
    "tags": []
   },
   "outputs": [],
   "source": [
    "# init the osm datasource\n",
    "data = osm.OSM_datasource()"
   ]
  },
  {
   "cell_type": "code",
   "execution_count": null,
   "metadata": {
    "tags": []
   },
   "outputs": [],
   "source": [
    "# set download path\n",
    "path = \"./\"\n",
    "\n",
    "# city name\n",
    "name = [\"Marseille\"]"
   ]
  },
  {
   "cell_type": "code",
   "execution_count": null,
   "metadata": {
    "tags": []
   },
   "outputs": [],
   "source": [
    "# get data\n",
    "osm_path = data.download(path=path, place=name)[0]\n",
    "osm_path"
   ]
  },
  {
   "cell_type": "code",
   "execution_count": null,
   "metadata": {
    "tags": []
   },
   "outputs": [],
   "source": [
    "df = osm.OSM(osm_path)\n",
    "df.info()"
   ]
  },
  {
   "cell_type": "code",
   "execution_count": null,
   "metadata": {},
   "outputs": [],
   "source": []
  }
 ],
 "metadata": {
  "interpreter": {
   "hash": "791fb41b6c4ae87c365da234ae3816e32b9b9517ca8541e37967bd34d29dcc5d"
  },
  "kernelspec": {
   "display_name": "osmdatapy_kernel",
   "language": "python",
   "name": "osmdatapy_kernel"
  },
  "language_info": {
   "codemirror_mode": {
    "name": "ipython",
    "version": 3
   },
   "file_extension": ".py",
   "mimetype": "text/x-python",
   "name": "python",
   "nbconvert_exporter": "python",
   "pygments_lexer": "ipython3",
   "version": "3.10.4"
  }
 },
 "nbformat": 4,
 "nbformat_minor": 4
}
