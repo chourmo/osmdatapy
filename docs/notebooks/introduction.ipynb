{
 "cells": [
  {
   "cell_type": "code",
   "execution_count": 1,
   "metadata": {
    "execution": {
     "iopub.execute_input": "2022-05-27T14:42:10.396252Z",
     "iopub.status.busy": "2022-05-27T14:42:10.395112Z",
     "iopub.status.idle": "2022-05-27T14:42:11.118608Z",
     "shell.execute_reply": "2022-05-27T14:42:11.118059Z",
     "shell.execute_reply.started": "2022-05-27T14:42:10.395923Z"
    },
    "tags": []
   },
   "outputs": [],
   "source": [
    "import osmdatapy as osm\n",
    "\n",
    "%load_ext autoreload\n",
    "%autoreload 2"
   ]
  },
  {
   "cell_type": "code",
   "execution_count": 2,
   "metadata": {
    "execution": {
     "iopub.execute_input": "2022-05-27T14:42:11.119418Z",
     "iopub.status.busy": "2022-05-27T14:42:11.119181Z",
     "iopub.status.idle": "2022-05-27T14:46:27.501611Z",
     "shell.execute_reply": "2022-05-27T14:46:27.501091Z",
     "shell.execute_reply.started": "2022-05-27T14:42:11.119407Z"
    },
    "tags": []
   },
   "outputs": [],
   "source": [
    "# init the osm datasource\n",
    "data = osm.OSM_datasource()"
   ]
  },
  {
   "cell_type": "code",
   "execution_count": 3,
   "metadata": {
    "execution": {
     "iopub.execute_input": "2022-05-27T14:46:27.502421Z",
     "iopub.status.busy": "2022-05-27T14:46:27.502281Z",
     "iopub.status.idle": "2022-05-27T14:46:27.530824Z",
     "shell.execute_reply": "2022-05-27T14:46:27.530322Z",
     "shell.execute_reply.started": "2022-05-27T14:46:27.502404Z"
    },
    "tags": []
   },
   "outputs": [],
   "source": [
    "# set download path\n",
    "path = \"./\"\n",
    "\n",
    "# city name\n",
    "name = [\"Marseille\"]"
   ]
  },
  {
   "cell_type": "code",
   "execution_count": 4,
   "metadata": {
    "execution": {
     "iopub.execute_input": "2022-05-27T14:46:27.532527Z",
     "iopub.status.busy": "2022-05-27T14:46:27.532311Z",
     "iopub.status.idle": "2022-05-27T14:47:12.169988Z",
     "shell.execute_reply": "2022-05-27T14:47:12.169496Z",
     "shell.execute_reply.started": "2022-05-27T14:46:27.532504Z"
    },
    "tags": []
   },
   "outputs": [
    {
     "data": {
      "text/plain": [
       "'./Marseille.osm.pbf'"
      ]
     },
     "execution_count": 4,
     "metadata": {},
     "output_type": "execute_result"
    }
   ],
   "source": [
    "# get data\n",
    "osm_path = data.download(path=path, place=name)[0]\n",
    "osm_path"
   ]
  },
  {
   "cell_type": "code",
   "execution_count": 6,
   "metadata": {
    "execution": {
     "iopub.execute_input": "2022-05-27T14:55:27.640226Z",
     "iopub.status.busy": "2022-05-27T14:55:27.639770Z",
     "iopub.status.idle": "2022-05-27T14:55:29.771705Z",
     "shell.execute_reply": "2022-05-27T14:55:29.771341Z",
     "shell.execute_reply.started": "2022-05-27T14:55:27.640198Z"
    },
    "tags": []
   },
   "outputs": [
    {
     "name": "stdout",
     "output_type": "stream",
     "text": [
      "3 blocks : 1 dense nodes, 0 nodes, 1 ways, 1 relations\n",
      "---------------------------------------\n",
      "Cache memory usage : 112.6 MB\n",
      "6962750 points, 106.2 MB\n",
      "offsets : 4.8 MB\n",
      "strings : 1.5 MB\n"
     ]
    }
   ],
   "source": [
    "df = osm.OSM(osm_path)\n",
    "df.info()"
   ]
  },
  {
   "cell_type": "code",
   "execution_count": null,
   "metadata": {},
   "outputs": [],
   "source": []
  }
 ],
 "metadata": {
  "interpreter": {
   "hash": "791fb41b6c4ae87c365da234ae3816e32b9b9517ca8541e37967bd34d29dcc5d"
  },
  "kernelspec": {
   "display_name": "osmdatapy_kernel",
   "language": "python",
   "name": "osmdatapy_kernel"
  },
  "language_info": {
   "codemirror_mode": {
    "name": "ipython",
    "version": 3
   },
   "file_extension": ".py",
   "mimetype": "text/x-python",
   "name": "python",
   "nbconvert_exporter": "python",
   "pygments_lexer": "ipython3",
   "version": "3.9.12"
  }
 },
 "nbformat": 4,
 "nbformat_minor": 4
}
